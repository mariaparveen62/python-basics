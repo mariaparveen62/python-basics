{
 "cells": [
  {
   "cell_type": "code",
   "execution_count": null,
   "id": "cccb3db0",
   "metadata": {},
   "outputs": [],
   "source": [
    "#Python datatypes----integers,float,complex numbers,boolean, \n",
    "#lists, sets, tuples, dictionaries...\n",
    "#Functions/method in python \n",
    "#OOP concepts in Python"
   ]
  },
  {
   "cell_type": "code",
   "execution_count": 16,
   "id": "2987219a",
   "metadata": {},
   "outputs": [
    {
     "name": "stdout",
     "output_type": "stream",
     "text": [
      "<class 'int'>\n",
      "<class 'float'>\n",
      "<class 'str'>\n"
     ]
    }
   ],
   "source": [
    "#integers---whole numbers\n",
    "a=1\n",
    "print(type(a))\n",
    "\n",
    "\n",
    "#float number---contains decimal\n",
    "b=3.14\n",
    "print(type(b))\n",
    "\n",
    "\n",
    "#string---contains \"\",  ''\n",
    "c=\"Hello\"  \n",
    "print(type(c))"
   ]
  },
  {
   "cell_type": "code",
   "execution_count": 17,
   "id": "0282e294",
   "metadata": {},
   "outputs": [
    {
     "name": "stdout",
     "output_type": "stream",
     "text": [
      "[1, 2, 'Jany', 3.14]\n",
      "[1, 5, 'Jany', 3.14]\n",
      "<class 'list'>\n"
     ]
    }
   ],
   "source": [
    "#List___ mutable, uses []...contains any type of data.\n",
    "\n",
    "l=[1,2,\"Jany\",3.14]\n",
    "print(l)\n",
    "\n",
    "l[1]=5 \n",
    "print(l)       #mutable\n",
    "print(type(l))"
   ]
  },
  {
   "cell_type": "code",
   "execution_count": 20,
   "id": "cfaf60bd",
   "metadata": {},
   "outputs": [
    {
     "name": "stdout",
     "output_type": "stream",
     "text": [
      "(1, 2, 'Jany', 3.14)\n",
      "<class 'tuple'>\n"
     ]
    }
   ],
   "source": [
    "#Tuple___same as list but not mutable, uses ().\n",
    "\n",
    "t=(1,2,\"Jany\",3.14)\n",
    "print(t)\n",
    "\n",
    "#t[1]=5   #immutable so it will not replace 2 with 5.\n",
    "#t\n",
    "print(type(t))"
   ]
  },
  {
   "cell_type": "code",
   "execution_count": 24,
   "id": "48f5d107",
   "metadata": {},
   "outputs": [
    {
     "name": "stdout",
     "output_type": "stream",
     "text": [
      "{1, 2, 3, 3.14, 'Jany'}\n"
     ]
    },
    {
     "ename": "TypeError",
     "evalue": "'set' object does not support item assignment",
     "output_type": "error",
     "traceback": [
      "\u001b[1;31m---------------------------------------------------------------------------\u001b[0m",
      "\u001b[1;31mTypeError\u001b[0m                                 Traceback (most recent call last)",
      "\u001b[1;32m<ipython-input-24-0dd26a751a01>\u001b[0m in \u001b[0;36m<module>\u001b[1;34m\u001b[0m\n\u001b[0;32m      4\u001b[0m \u001b[0mprint\u001b[0m\u001b[1;33m(\u001b[0m\u001b[0ms\u001b[0m\u001b[1;33m)\u001b[0m\u001b[1;33m\u001b[0m\u001b[1;33m\u001b[0m\u001b[0m\n\u001b[0;32m      5\u001b[0m \u001b[1;33m\u001b[0m\u001b[0m\n\u001b[1;32m----> 6\u001b[1;33m \u001b[0ms\u001b[0m\u001b[1;33m[\u001b[0m\u001b[1;36m1\u001b[0m\u001b[1;33m]\u001b[0m\u001b[1;33m=\u001b[0m\u001b[1;36m5\u001b[0m\u001b[1;33m\u001b[0m\u001b[1;33m\u001b[0m\u001b[0m\n\u001b[0m\u001b[0;32m      7\u001b[0m \u001b[0mprint\u001b[0m\u001b[1;33m(\u001b[0m\u001b[0ms\u001b[0m\u001b[1;33m)\u001b[0m\u001b[1;33m\u001b[0m\u001b[1;33m\u001b[0m\u001b[0m\n",
      "\u001b[1;31mTypeError\u001b[0m: 'set' object does not support item assignment"
     ]
    }
   ],
   "source": [
    "#set__prints only unique value, not mutable, uses {}.\n",
    "\n",
    "s={1,2,\"Jany\",3.14,2,3,3}\n",
    "print(s)\n",
    "\n",
    "#s[1]=5\n",
    "#print(s)"
   ]
  },
  {
   "cell_type": "code",
   "execution_count": 25,
   "id": "6cbb8ec5",
   "metadata": {},
   "outputs": [
    {
     "name": "stdout",
     "output_type": "stream",
     "text": [
      "{'name': 'Jany', 'age': 20}\n",
      "{'name': 'amna', 'age': 20}\n"
     ]
    }
   ],
   "source": [
    "#Dictionary---mutable, uses{}.\n",
    "\n",
    "dict={'name':'Jany', 'age':20}\n",
    "print(dict)\n",
    "\n",
    "dict['name']='amna'    #mutable so can replace value\n",
    "print(dict)"
   ]
  },
  {
   "cell_type": "code",
   "execution_count": 30,
   "id": "66b89e24",
   "metadata": {},
   "outputs": [
    {
     "name": "stdout",
     "output_type": "stream",
     "text": [
      "8\n",
      "-2\n",
      "0.5\n",
      "6\n",
      "16\n"
     ]
    }
   ],
   "source": [
    "#Operators in Python:\n",
    "a=2*4\n",
    "print(a)\n",
    "\n",
    "\n",
    "b=2-4\n",
    "print(b)\n",
    "\n",
    "c=2/4\n",
    "print(c)\n",
    "\n",
    "d=2+4\n",
    "print(d)\n",
    "\n",
    "e=2**4\n",
    "print(e)"
   ]
  },
  {
   "cell_type": "code",
   "execution_count": 33,
   "id": "92f06d5c",
   "metadata": {},
   "outputs": [
    {
     "name": "stdout",
     "output_type": "stream",
     "text": [
      "4\n",
      "8\n"
     ]
    }
   ],
   "source": [
    "m=2**2\n",
    "print(m)\n",
    "\n",
    "n=m\n",
    "\n",
    "a=n+m\n",
    "print(a)"
   ]
  },
  {
   "cell_type": "code",
   "execution_count": 35,
   "id": "f0072a0c",
   "metadata": {},
   "outputs": [
    {
     "data": {
      "text/plain": [
       "True"
      ]
     },
     "execution_count": 35,
     "metadata": {},
     "output_type": "execute_result"
    }
   ],
   "source": [
    "a=4\n",
    "b=5\n",
    "\n",
    "a>b   #checking its boolean value"
   ]
  },
  {
   "cell_type": "code",
   "execution_count": 39,
   "id": "b178fbf0",
   "metadata": {},
   "outputs": [
    {
     "name": "stdout",
     "output_type": "stream",
     "text": [
      "X is in List\n"
     ]
    }
   ],
   "source": [
    "#in____not in use:\n",
    "#if we want to check any value in given data list then we can apply this....\n",
    "\n",
    "x=3\n",
    "y=6\n",
    "a=[1,2,3,4,5]\n",
    "\n",
    "if( x not in a):\n",
    "    print(\"X not in list\")\n",
    "else:\n",
    "    print(\"X is in List\")\n"
   ]
  },
  {
   "cell_type": "code",
   "execution_count": 40,
   "id": "a2fecdd2",
   "metadata": {},
   "outputs": [
    {
     "name": "stdout",
     "output_type": "stream",
     "text": [
      "False\n"
     ]
    }
   ],
   "source": [
    "a=4\n",
    "b=6\n",
    "if a>b:\n",
    "    print(\"True\")\n",
    "elif a==b:\n",
    "    print(\"Equal\")\n",
    "else:\n",
    "    print(\"False\")"
   ]
  },
  {
   "cell_type": "code",
   "execution_count": 41,
   "id": "275248b0",
   "metadata": {},
   "outputs": [
    {
     "name": "stdout",
     "output_type": "stream",
     "text": [
      "1\n",
      "2\n",
      "3\n",
      "4\n",
      "5\n"
     ]
    }
   ],
   "source": [
    "a=[1,2,3,4,5]\n",
    "for x in a:\n",
    "    print(x)"
   ]
  },
  {
   "cell_type": "code",
   "execution_count": 42,
   "id": "6c9876bd",
   "metadata": {},
   "outputs": [
    {
     "name": "stdout",
     "output_type": "stream",
     "text": [
      "1\n",
      "2\n",
      "3\n",
      "4\n"
     ]
    }
   ],
   "source": [
    "a=1\n",
    "while a<5:\n",
    "    print(a)\n",
    "    a=a+1"
   ]
  },
  {
   "cell_type": "code",
   "execution_count": 48,
   "id": "b9cf0935",
   "metadata": {},
   "outputs": [
    {
     "name": "stdout",
     "output_type": "stream",
     "text": [
      "5\n"
     ]
    }
   ],
   "source": [
    "#Function in python:\n",
    "def data(a,b):\n",
    "    sum=a+b\n",
    "    print(sum)\n",
    "    \n",
    "data(2,3)"
   ]
  },
  {
   "cell_type": "code",
   "execution_count": 49,
   "id": "a9a63e15",
   "metadata": {},
   "outputs": [
    {
     "name": "stdout",
     "output_type": "stream",
     "text": [
      "10\n"
     ]
    }
   ],
   "source": [
    "ax=lambda x:x*2\n",
    "print(ax(5))"
   ]
  },
  {
   "cell_type": "code",
   "execution_count": 67,
   "id": "786e839c",
   "metadata": {},
   "outputs": [
    {
     "name": "stdout",
     "output_type": "stream",
     "text": [
      "None\n"
     ]
    }
   ],
   "source": [
    "def collection(cgpa, per,):\n",
    "    if cgpa>3.0:\n",
    "        if cgpa==3.0:\n",
    "            print(\"Interview\")\n",
    "        elif cgpa<3.0:\n",
    "            print(\"Pass a Test\")\n",
    "        if per>80:\n",
    "            if per==80:\n",
    "                print(\"Selected\")\n",
    "            else:\n",
    "                print(\"Rejected\")   \n",
    "        else:\n",
    "            print(\"Pass Test\")\n",
    "    \n",
    "print(collection(2.5, 90))"
   ]
  },
  {
   "cell_type": "code",
   "execution_count": 70,
   "id": "8705c537",
   "metadata": {},
   "outputs": [
    {
     "name": "stdout",
     "output_type": "stream",
     "text": [
      "Jony\n",
      "John\n"
     ]
    }
   ],
   "source": [
    "#Simple class in python:\n",
    "\n",
    "class info:\n",
    "    pass\n",
    "\n",
    "p1=info()\n",
    "p2=info()\n",
    "\n",
    "p1.name=\"Jony\"\n",
    "p1.age=\"20\"\n",
    "p2.name=\"John\"\n",
    "p2.age=\"21\"\n",
    "\n",
    "print(p1.name)\n",
    "print(p2.name)"
   ]
  },
  {
   "cell_type": "code",
   "execution_count": 76,
   "id": "e6fc8cb3",
   "metadata": {},
   "outputs": [
    {
     "name": "stdout",
     "output_type": "stream",
     "text": [
      "Jony\n",
      "{'name': 'Jony', 'age': 21, 'roll': 8}\n"
     ]
    }
   ],
   "source": [
    "#when we want to assign value to any object or we want to use common values \n",
    "#then use __init__ (constructor):\n",
    "\n",
    "class info:\n",
    "    def __init__(self,name,age):\n",
    "        self.name=name\n",
    "        self.age=age\n",
    "\n",
    "p1=info('Jony', 20)\n",
    "p2=info('John', 21)\n",
    "\n",
    "p1.roll=8         #we can add value to a object\n",
    "\n",
    "print(p1.name)\n",
    "print(p1.__dict__)\n"
   ]
  },
  {
   "cell_type": "code",
   "execution_count": 86,
   "id": "548f4f38",
   "metadata": {},
   "outputs": [
    {
     "name": "stdout",
     "output_type": "stream",
     "text": [
      "21\n",
      "31\n"
     ]
    }
   ],
   "source": [
    "#Applying multiple functions in class:\n",
    "class info:\n",
    "    def __init__(self,name,age):\n",
    "        self.name=name\n",
    "        self.age=age\n",
    "\n",
    "    def agee(self):\n",
    "        self.age=int(self.age*1.5)\n",
    "    \n",
    "p1=info('Jony', 20)\n",
    "p2=info('John', 21)\n",
    "\n",
    "\n",
    "print(p1.age)\n",
    "\n",
    "p1.agee()\n",
    "print(p1.age)\n"
   ]
  },
  {
   "cell_type": "code",
   "execution_count": 90,
   "id": "1578f9c5",
   "metadata": {},
   "outputs": [
    {
     "name": "stdout",
     "output_type": "stream",
     "text": [
      "20\n",
      "30\n"
     ]
    }
   ],
   "source": [
    "#Inheritance class---- may inherit data from base class to child class.\n",
    "class info:\n",
    "    def __init__(self,name,age):\n",
    "        self.name=name\n",
    "        self.age=age\n",
    "\n",
    "    def agee(self):\n",
    "        self.age=int(self.age*1.5)\n",
    "    \n",
    "class collect(info):\n",
    "    pass\n",
    "\n",
    "p1=info('Jony', 20)\n",
    "p2=info('John', 21)\n",
    "\n",
    "print(p1.age)\n",
    "\n",
    "#we may use functions of base class....!\n",
    "p1.agee()\n",
    "print(p1.age)"
   ]
  },
  {
   "cell_type": "code",
   "execution_count": 103,
   "id": "46a69715",
   "metadata": {},
   "outputs": [
    {
     "name": "stdout",
     "output_type": "stream",
     "text": [
      "John age is 20 years old\n",
      "Jony age is 21 years old\n"
     ]
    }
   ],
   "source": [
    "#Abstraction in Python-----we need to use abstract method for it by using ABC module because \n",
    "#python doesn't provide abstract class itself.\n",
    "\n",
    "from abc import ABC, abstractmethod\n",
    "\n",
    "class info(ABC):\n",
    "    @abstractmethod\n",
    "    def agee(self):\n",
    "        pass\n",
    "    \n",
    "class collect(info):\n",
    "    \n",
    "    def agee(self):\n",
    "        print('John age is 20 years old')\n",
    "\n",
    "class calc(info):\n",
    "    def agee(self):\n",
    "         print('Jony age is 21 years old')\n",
    "    \n",
    "p1=collect()\n",
    "p2=calc()\n",
    "\n",
    "p1.agee()\n",
    "p2.agee()"
   ]
  },
  {
   "cell_type": "code",
   "execution_count": null,
   "id": "21611de1",
   "metadata": {},
   "outputs": [],
   "source": []
  }
 ],
 "metadata": {
  "kernelspec": {
   "display_name": "Python 3",
   "language": "python",
   "name": "python3"
  },
  "language_info": {
   "codemirror_mode": {
    "name": "ipython",
    "version": 3
   },
   "file_extension": ".py",
   "mimetype": "text/x-python",
   "name": "python",
   "nbconvert_exporter": "python",
   "pygments_lexer": "ipython3",
   "version": "3.8.8"
  }
 },
 "nbformat": 4,
 "nbformat_minor": 5
}
